{
  "nbformat": 4,
  "nbformat_minor": 0,
  "metadata": {
    "colab": {
      "name": "Untitled2.ipynb",
      "provenance": [],
      "authorship_tag": "ABX9TyM66ov1ajOXNm5lf8Km8jTI",
      "include_colab_link": true
    },
    "kernelspec": {
      "name": "python3",
      "display_name": "Python 3"
    }
  },
  "cells": [
    {
      "cell_type": "markdown",
      "metadata": {
        "id": "view-in-github",
        "colab_type": "text"
      },
      "source": [
        "<a href=\"https://colab.research.google.com/github/rampokhrel/cyborguino/blob/master/letsupgrade%20assignment%201.ipynb\" target=\"_parent\"><img src=\"https://colab.research.google.com/assets/colab-badge.svg\" alt=\"Open In Colab\"/></a>"
      ]
    },
    {
      "cell_type": "markdown",
      "metadata": {
        "id": "TN5Ba_JcQPV5"
      },
      "source": [
        "#Do Experiment with 5 List's In-built functions and post it to Github\r\n",
        "\r\n"
      ]
    },
    {
      "cell_type": "markdown",
      "metadata": {
        "id": "N-FQ44EWQZ7-"
      },
      "source": [
        "#append"
      ]
    },
    {
      "cell_type": "code",
      "metadata": {
        "id": "B65ZuzjxQlHG"
      },
      "source": [
        "lst = [1,2,3,4,5, 'hi', 56.7, ['a' , 'b'],7,8,9,]"
      ],
      "execution_count": 5,
      "outputs": []
    },
    {
      "cell_type": "code",
      "metadata": {
        "id": "BQQkwvWURT3-",
        "colab": {
          "base_uri": "https://localhost:8080/"
        },
        "outputId": "75bddd90-3514-4cdf-8f9f-ddbbc858bac5"
      },
      "source": [
        "lst.append(3)\r\n",
        "print(lst)"
      ],
      "execution_count": 17,
      "outputs": [
        {
          "output_type": "stream",
          "text": [
            "[1, 2, 3, 4, 5, 'hi', 56.7, ['a', 'b'], 7, 8, 9, 3]\n"
          ],
          "name": "stdout"
        }
      ]
    },
    {
      "cell_type": "markdown",
      "metadata": {
        "id": "gnQuk48ZAhFe"
      },
      "source": [
        "#insert"
      ]
    },
    {
      "cell_type": "code",
      "metadata": {
        "colab": {
          "base_uri": "https://localhost:8080/"
        },
        "id": "3BtOzByVAY9f",
        "outputId": "cdecf4c0-745a-4d72-a8b9-bde01d0b2a29"
      },
      "source": [
        "lst.insert(1, \"op\")\r\n",
        "print(lst)"
      ],
      "execution_count": 21,
      "outputs": [
        {
          "output_type": "stream",
          "text": [
            "[1, 'op', 'orange', 'orange', 'orange', 2, 3, 4, 5, 'hi', 56.7, ['a', 'b'], 7, 8, 9, 3]\n"
          ],
          "name": "stdout"
        }
      ]
    },
    {
      "cell_type": "markdown",
      "metadata": {
        "id": "YmbBlMMwBang"
      },
      "source": [
        "#pop"
      ]
    },
    {
      "cell_type": "code",
      "metadata": {
        "colab": {
          "base_uri": "https://localhost:8080/"
        },
        "id": "3d0DJmwwBumJ",
        "outputId": "976b771a-f155-46e8-e6bd-bf3ea844ec90"
      },
      "source": [
        "lst.pop(1)\r\n",
        "print(lst)"
      ],
      "execution_count": 23,
      "outputs": [
        {
          "output_type": "stream",
          "text": [
            "[1, 'orange', 'orange', 2, 3, 4, 5, 'hi', 56.7, ['a', 'b'], 7, 8, 9, 3]\n"
          ],
          "name": "stdout"
        }
      ]
    },
    {
      "cell_type": "markdown",
      "metadata": {
        "id": "rMDuiCraB8tg"
      },
      "source": [
        "#reverse"
      ]
    },
    {
      "cell_type": "code",
      "metadata": {
        "colab": {
          "base_uri": "https://localhost:8080/"
        },
        "id": "OBWpf7HECHcc",
        "outputId": "ed806612-aa7e-45bb-d918-a251e24a8f0c"
      },
      "source": [
        "lst.reverse()\r\n",
        "print(lst)"
      ],
      "execution_count": 27,
      "outputs": [
        {
          "output_type": "stream",
          "text": [
            "[3, 7, 8, 9, ['a', 'b'], 56.7, 'hi', 5, 4, 3, 2, 'orange', 'orange', 1]\n"
          ],
          "name": "stdout"
        }
      ]
    },
    {
      "cell_type": "markdown",
      "metadata": {
        "id": "7m12Q12OEd1C"
      },
      "source": [
        "#clear"
      ]
    },
    {
      "cell_type": "code",
      "metadata": {
        "colab": {
          "base_uri": "https://localhost:8080/"
        },
        "id": "Zm4jb-O4Emb0",
        "outputId": "0031bc9b-7155-4cda-b9fe-d5deb4893a56"
      },
      "source": [
        "lst.clear()\r\n",
        "print(lst)"
      ],
      "execution_count": 28,
      "outputs": [
        {
          "output_type": "stream",
          "text": [
            "[]\n"
          ],
          "name": "stdout"
        }
      ]
    }
  ]
}