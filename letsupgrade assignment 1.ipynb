{
  "nbformat": 4,
  "nbformat_minor": 0,
  "metadata": {
    "colab": {
      "name": "Untitled2.ipynb",
      "provenance": [],
      "authorship_tag": "ABX9TyMSmBphXlEywWCORVJVPuoC",
      "include_colab_link": true
    },
    "kernelspec": {
      "name": "python3",
      "display_name": "Python 3"
    }
  },
  "cells": [
    {
      "cell_type": "markdown",
      "metadata": {
        "id": "view-in-github",
        "colab_type": "text"
      },
      "source": [
        "<a href=\"https://colab.research.google.com/github/rampokhrel/cyborguino/blob/master/letsupgrade%20assignment%201.ipynb\" target=\"_parent\"><img src=\"https://colab.research.google.com/assets/colab-badge.svg\" alt=\"Open In Colab\"/></a>"
      ]
    },
    {
      "cell_type": "markdown",
      "metadata": {
        "id": "TN5Ba_JcQPV5"
      },
      "source": [
        "#Do Experiment with 5 List's In-built functions and post it to Github\r\n",
        "\r\n"
      ]
    },
    {
      "cell_type": "markdown",
      "metadata": {
        "id": "N-FQ44EWQZ7-"
      },
      "source": [
        "#append"
      ]
    },
    {
      "cell_type": "code",
      "metadata": {
        "id": "B65ZuzjxQlHG"
      },
      "source": [
        "lst = [1,2,3,4,5, 'hi', 56.7, ['a' , 'b'],7,8,9,]"
      ],
      "execution_count": 9,
      "outputs": []
    },
    {
      "cell_type": "code",
      "metadata": {
        "id": "BQQkwvWURT3-",
        "colab": {
          "base_uri": "https://localhost:8080/"
        },
        "outputId": "6472206f-061d-4271-d65a-d58e798e3608"
      },
      "source": [
        "lst.append(3)\r\n",
        "print(lst)"
      ],
      "execution_count": 10,
      "outputs": [
        {
          "output_type": "stream",
          "text": [
            "[1, 2, 3, 4, 5, 'hi', 56.7, ['a', 'b'], 7, 8, 9, 3]\n"
          ],
          "name": "stdout"
        }
      ]
    },
    {
      "cell_type": "markdown",
      "metadata": {
        "id": "gnQuk48ZAhFe"
      },
      "source": [
        "#insert"
      ]
    },
    {
      "cell_type": "code",
      "metadata": {
        "colab": {
          "base_uri": "https://localhost:8080/"
        },
        "id": "3BtOzByVAY9f",
        "outputId": "d2025009-3cdb-4b00-e2a2-66d635c9eed9"
      },
      "source": [
        "lst.insert(1, \"op\")\r\n",
        "print(lst)"
      ],
      "execution_count": 11,
      "outputs": [
        {
          "output_type": "stream",
          "text": [
            "[1, 'op', 2, 3, 4, 5, 'hi', 56.7, ['a', 'b'], 7, 8, 9, 3]\n"
          ],
          "name": "stdout"
        }
      ]
    },
    {
      "cell_type": "markdown",
      "metadata": {
        "id": "YmbBlMMwBang"
      },
      "source": [
        "#pop"
      ]
    },
    {
      "cell_type": "code",
      "metadata": {
        "colab": {
          "base_uri": "https://localhost:8080/"
        },
        "id": "3d0DJmwwBumJ",
        "outputId": "11692769-1e06-4469-d37a-cfa4062738a8"
      },
      "source": [
        "lst.pop(1)\r\n",
        "print(lst)"
      ],
      "execution_count": 12,
      "outputs": [
        {
          "output_type": "stream",
          "text": [
            "[1, 2, 3, 4, 5, 'hi', 56.7, ['a', 'b'], 7, 8, 9, 3]\n"
          ],
          "name": "stdout"
        }
      ]
    },
    {
      "cell_type": "markdown",
      "metadata": {
        "id": "rMDuiCraB8tg"
      },
      "source": [
        "#reverse"
      ]
    },
    {
      "cell_type": "code",
      "metadata": {
        "colab": {
          "base_uri": "https://localhost:8080/"
        },
        "id": "OBWpf7HECHcc",
        "outputId": "23ba4057-3825-4a20-cbe0-3ae5d8d1adab"
      },
      "source": [
        "lst.reverse()\r\n",
        "print(lst)"
      ],
      "execution_count": 13,
      "outputs": [
        {
          "output_type": "stream",
          "text": [
            "[3, 9, 8, 7, ['a', 'b'], 56.7, 'hi', 5, 4, 3, 2, 1]\n"
          ],
          "name": "stdout"
        }
      ]
    },
    {
      "cell_type": "markdown",
      "metadata": {
        "id": "7m12Q12OEd1C"
      },
      "source": [
        "#clear"
      ]
    },
    {
      "cell_type": "code",
      "metadata": {
        "colab": {
          "base_uri": "https://localhost:8080/"
        },
        "id": "Zm4jb-O4Emb0",
        "outputId": "a7a52e99-9dcf-43f7-ba3f-d01a00be2653"
      },
      "source": [
        "lst.clear()\r\n",
        "print(lst)"
      ],
      "execution_count": 14,
      "outputs": [
        {
          "output_type": "stream",
          "text": [
            "[]\n"
          ],
          "name": "stdout"
        }
      ]
    },
    {
      "cell_type": "markdown",
      "metadata": {
        "id": "igrAdPv7G2AY"
      },
      "source": [
        "#Do Experiment with 5 Dict's In-built functions and post it to Github\r\n"
      ]
    },
    {
      "cell_type": "markdown",
      "metadata": {
        "id": "1ps8UGxmG3fq"
      },
      "source": [
        "#Values"
      ]
    },
    {
      "cell_type": "code",
      "metadata": {
        "id": "kUpJhJibJH-e",
        "outputId": "d85eaab4-73c5-4a70-e14c-c3e5f6a9cfa9",
        "colab": {
          "base_uri": "https://localhost:8080/"
        }
      },
      "source": [
        "car = {\r\n",
        "  \"brand\": \"Ford\",\r\n",
        "  \"model\": \"Mustang\",\r\n",
        "  \"year\": 1964\r\n",
        "}\r\n",
        "\r\n",
        "print(car.values())"
      ],
      "execution_count": 20,
      "outputs": [
        {
          "output_type": "stream",
          "text": [
            "dict_values(['Ford', 'Mustang', 1964])\n"
          ],
          "name": "stdout"
        }
      ]
    },
    {
      "cell_type": "markdown",
      "metadata": {
        "id": "dB8tfT4UPAHR"
      },
      "source": [
        "#keys\r\n"
      ]
    },
    {
      "cell_type": "code",
      "metadata": {
        "id": "1Enk8Dm9PGWR",
        "outputId": "92477570-b9f9-4191-e974-fb94a5af6087",
        "colab": {
          "base_uri": "https://localhost:8080/"
        }
      },
      "source": [
        "print(car.keys())\r\n"
      ],
      "execution_count": 16,
      "outputs": [
        {
          "output_type": "stream",
          "text": [
            "dict_keys(['brand', 'model', 'year'])\n"
          ],
          "name": "stdout"
        }
      ]
    },
    {
      "cell_type": "markdown",
      "metadata": {
        "id": "HDgV3UUhQZgt"
      },
      "source": [
        "#get"
      ]
    },
    {
      "cell_type": "code",
      "metadata": {
        "id": "0f6SNfN6Qfg6",
        "outputId": "2dd2f423-3baa-4267-d12b-acf16cd8ee5a",
        "colab": {
          "base_uri": "https://localhost:8080/"
        }
      },
      "source": [
        "print(car.get(\"model\"))"
      ],
      "execution_count": 19,
      "outputs": [
        {
          "output_type": "stream",
          "text": [
            "Mustang\n"
          ],
          "name": "stdout"
        }
      ]
    },
    {
      "cell_type": "markdown",
      "metadata": {
        "id": "GvF-RZNMRqLx"
      },
      "source": [
        "#update"
      ]
    },
    {
      "cell_type": "code",
      "metadata": {
        "id": "qp6YdljqSGVS",
        "outputId": "29c3902c-ae79-4726-8cd9-cd395a1f7b62",
        "colab": {
          "base_uri": "https://localhost:8080/"
        }
      },
      "source": [
        "car.update({\"color\": \"White\"})\r\n",
        "\r\n",
        "print(car)"
      ],
      "execution_count": 23,
      "outputs": [
        {
          "output_type": "stream",
          "text": [
            "{'brand': 'Ford', 'model': 'Mustang', 'year': 1964, 'color': 'White'}\n"
          ],
          "name": "stdout"
        }
      ]
    },
    {
      "cell_type": "markdown",
      "metadata": {
        "id": "HmRw8kUhSaM6"
      },
      "source": [
        "#clear"
      ]
    },
    {
      "cell_type": "code",
      "metadata": {
        "id": "c-SYo1fPSmUH",
        "outputId": "beb1dfee-0428-44ed-e456-83207a5e7bdc",
        "colab": {
          "base_uri": "https://localhost:8080/"
        }
      },
      "source": [
        "car.clear()\r\n",
        "\r\n",
        "print(car)"
      ],
      "execution_count": 24,
      "outputs": [
        {
          "output_type": "stream",
          "text": [
            "{}\n"
          ],
          "name": "stdout"
        }
      ]
    }
  ]
}